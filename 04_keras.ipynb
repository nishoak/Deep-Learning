{
  "nbformat": 4,
  "nbformat_minor": 0,
  "metadata": {
    "colab": {
      "provenance": [],
      "collapsed_sections": []
    },
    "kernelspec": {
      "name": "python3",
      "display_name": "Python 3"
    },
    "language_info": {
      "name": "python"
    }
  },
  "cells": [
    {
      "cell_type": "code",
      "source": [
        "import tensorflow as tf\n",
        "from keras.datasets import mnist\n",
        "data = mnist.load_data()"
      ],
      "metadata": {
        "id": "zMZCCd07ayn-",
        "colab": {
          "base_uri": "https://localhost:8080/"
        },
        "outputId": "b5aa2d86-d4bb-4b06-f46f-b6a0ea3ee407"
      },
      "execution_count": null,
      "outputs": [
        {
          "output_type": "stream",
          "name": "stdout",
          "text": [
            "Downloading data from https://storage.googleapis.com/tensorflow/tf-keras-datasets/mnist.npz\n",
            "11493376/11490434 [==============================] - 0s 0us/step\n",
            "11501568/11490434 [==============================] - 0s 0us/step\n"
          ]
        }
      ]
    },
    {
      "cell_type": "code",
      "source": [
        "(X_train, y_train), (X_test, y_test) = data\n",
        "X_train[0].shape\n",
        "X_train.shape"
      ],
      "metadata": {
        "colab": {
          "base_uri": "https://localhost:8080/"
        },
        "id": "_ibv3Nw9bYpW",
        "outputId": "992f00f0-29c5-46ec-b6e9-7385b6edbe9c"
      },
      "execution_count": null,
      "outputs": [
        {
          "output_type": "execute_result",
          "data": {
            "text/plain": [
              "(60000, 28, 28)"
            ]
          },
          "metadata": {},
          "execution_count": 3
        }
      ]
    },
    {
      "cell_type": "code",
      "source": [
        "X_train = X_train.reshape((X_train.shape[0], 28*28)).astype('float32')\n",
        "X_test = X_test.reshape((X_test.shape[0], 28*28)).astype('float32')"
      ],
      "metadata": {
        "id": "VprJc5fLbdAO"
      },
      "execution_count": null,
      "outputs": []
    },
    {
      "cell_type": "code",
      "source": [
        "X_train = X_train / 255\n",
        "X_test = X_test / 255"
      ],
      "metadata": {
        "id": "TJPmaeLvbfB2"
      },
      "execution_count": null,
      "outputs": []
    },
    {
      "cell_type": "code",
      "source": [
        "from keras.models import Sequential\n",
        "from keras.layers import Dense\n",
        "model = Sequential()\n",
        "model.add(Dense(32, input_dim = 28 * 28, activation= 'relu'))\n",
        "model.add(Dense(64, activation = 'relu'))\n",
        "model.add(Dense(10, activation = 'softmax'))"
      ],
      "metadata": {
        "id": "QTf1CHJebiI2"
      },
      "execution_count": null,
      "outputs": []
    },
    {
      "cell_type": "code",
      "source": [
        "model.summary()"
      ],
      "metadata": {
        "colab": {
          "base_uri": "https://localhost:8080/"
        },
        "id": "MqtTcyJmbkAO",
        "outputId": "fdd48222-08c4-4f64-c653-46dd97b12649"
      },
      "execution_count": null,
      "outputs": [
        {
          "output_type": "stream",
          "name": "stdout",
          "text": [
            "Model: \"sequential\"\n",
            "_________________________________________________________________\n",
            " Layer (type)                Output Shape              Param #   \n",
            "=================================================================\n",
            " dense (Dense)               (None, 32)                25120     \n",
            "                                                                 \n",
            " dense_1 (Dense)             (None, 64)                2112      \n",
            "                                                                 \n",
            " dense_2 (Dense)             (None, 10)                650       \n",
            "                                                                 \n",
            "=================================================================\n",
            "Total params: 27,882\n",
            "Trainable params: 27,882\n",
            "Non-trainable params: 0\n",
            "_________________________________________________________________\n"
          ]
        }
      ]
    },
    {
      "cell_type": "code",
      "source": [
        "model.compile ( optimizer = 'adam', \n",
        "               loss = 'sparse_categorical_crossentropy' )"
      ],
      "metadata": {
        "id": "fW936UYwcQrG"
      },
      "execution_count": null,
      "outputs": []
    },
    {
      "cell_type": "code",
      "source": [
        "model.fit(X_train , y_train, epochs = 25, batch_size = 100)"
      ],
      "metadata": {
        "colab": {
          "base_uri": "https://localhost:8080/"
        },
        "id": "2s2U33zQbu2P",
        "outputId": "50748215-c2b1-41aa-ed22-87fe85d3ec70"
      },
      "execution_count": null,
      "outputs": [
        {
          "output_type": "stream",
          "name": "stdout",
          "text": [
            "Epoch 1/25\n",
            "600/600 [==============================] - 3s 3ms/step - loss: 0.4459\n",
            "Epoch 2/25\n",
            "600/600 [==============================] - 2s 3ms/step - loss: 0.1913\n",
            "Epoch 3/25\n",
            "600/600 [==============================] - 2s 3ms/step - loss: 0.1486\n",
            "Epoch 4/25\n",
            "600/600 [==============================] - 2s 3ms/step - loss: 0.1246\n",
            "Epoch 5/25\n",
            "600/600 [==============================] - 2s 3ms/step - loss: 0.1097\n",
            "Epoch 6/25\n",
            "600/600 [==============================] - 2s 3ms/step - loss: 0.0970\n",
            "Epoch 7/25\n",
            "600/600 [==============================] - 2s 3ms/step - loss: 0.0881\n",
            "Epoch 8/25\n",
            "600/600 [==============================] - 2s 3ms/step - loss: 0.0795\n",
            "Epoch 9/25\n",
            "600/600 [==============================] - 2s 3ms/step - loss: 0.0725\n",
            "Epoch 10/25\n",
            "600/600 [==============================] - 3s 5ms/step - loss: 0.0672\n",
            "Epoch 11/25\n",
            "600/600 [==============================] - 3s 6ms/step - loss: 0.0600\n",
            "Epoch 12/25\n",
            "600/600 [==============================] - 3s 6ms/step - loss: 0.0579\n",
            "Epoch 13/25\n",
            "600/600 [==============================] - 3s 6ms/step - loss: 0.0520\n",
            "Epoch 14/25\n",
            "600/600 [==============================] - 3s 5ms/step - loss: 0.0483\n",
            "Epoch 15/25\n",
            "600/600 [==============================] - 2s 3ms/step - loss: 0.0442\n",
            "Epoch 16/25\n",
            "600/600 [==============================] - 2s 3ms/step - loss: 0.0402\n",
            "Epoch 17/25\n",
            "600/600 [==============================] - 2s 3ms/step - loss: 0.0378\n",
            "Epoch 18/25\n",
            "600/600 [==============================] - 2s 3ms/step - loss: 0.0354\n",
            "Epoch 19/25\n",
            "600/600 [==============================] - 2s 3ms/step - loss: 0.0323\n",
            "Epoch 20/25\n",
            "600/600 [==============================] - 2s 3ms/step - loss: 0.0312\n",
            "Epoch 21/25\n",
            "600/600 [==============================] - 2s 3ms/step - loss: 0.0284\n",
            "Epoch 22/25\n",
            "600/600 [==============================] - 2s 3ms/step - loss: 0.0263\n",
            "Epoch 23/25\n",
            "600/600 [==============================] - 2s 3ms/step - loss: 0.0248\n",
            "Epoch 24/25\n",
            "600/600 [==============================] - 2s 3ms/step - loss: 0.0215\n",
            "Epoch 25/25\n",
            "600/600 [==============================] - 2s 3ms/step - loss: 0.0217\n"
          ]
        },
        {
          "output_type": "execute_result",
          "data": {
            "text/plain": [
              "<keras.callbacks.History at 0x7ff26f5ecc50>"
            ]
          },
          "metadata": {},
          "execution_count": 9
        }
      ]
    },
    {
      "cell_type": "code",
      "source": [
        "scores = model.evaluate(X_test , y_test, verbose=0)\n",
        "scores"
      ],
      "metadata": {
        "colab": {
          "base_uri": "https://localhost:8080/"
        },
        "id": "8iowgOvxb8pN",
        "outputId": "f1479244-7c0f-4fd8-83f0-3aa4faf76c1a"
      },
      "execution_count": null,
      "outputs": [
        {
          "output_type": "execute_result",
          "data": {
            "text/plain": [
              "0.12084157764911652"
            ]
          },
          "metadata": {},
          "execution_count": 10
        }
      ]
    },
    {
      "cell_type": "code",
      "source": [
        "model_json = model.to_json()\n",
        "with open(\"model.json\", \"w\") as json_file:\n",
        "    json_file.write(model_json)"
      ],
      "metadata": {
        "id": "YXTYEQYgdZot"
      },
      "execution_count": null,
      "outputs": []
    },
    {
      "cell_type": "code",
      "source": [
        "model.save_weights(\"model.h5\")\n",
        "print(\"Saved model to disk\")"
      ],
      "metadata": {
        "colab": {
          "base_uri": "https://localhost:8080/"
        },
        "id": "unjNCuVIeW02",
        "outputId": "f11b7d6e-1370-4812-c944-fc12b68bd0d1"
      },
      "execution_count": null,
      "outputs": [
        {
          "output_type": "stream",
          "name": "stdout",
          "text": [
            "Saved model to disk\n"
          ]
        }
      ]
    },
    {
      "cell_type": "code",
      "source": [
        "from keras.initializers import glorot_uniform\n",
        "\n",
        "with open('model.json', 'r') as json_file:\n",
        "    json_savedModel= json_file.read()\n",
        "\n",
        "model_j = tf.keras.models.model_from_json(json_savedModel)\n",
        "model_j.summary()"
      ],
      "metadata": {
        "colab": {
          "base_uri": "https://localhost:8080/"
        },
        "id": "7s0ZDSVSZqNU",
        "outputId": "5fd59b66-ce44-4f01-bb09-505135f62dfb"
      },
      "execution_count": null,
      "outputs": [
        {
          "output_type": "stream",
          "name": "stdout",
          "text": [
            "Model: \"sequential\"\n",
            "_________________________________________________________________\n",
            " Layer (type)                Output Shape              Param #   \n",
            "=================================================================\n",
            " dense (Dense)               (None, 32)                25120     \n",
            "                                                                 \n",
            " dense_1 (Dense)             (None, 64)                2112      \n",
            "                                                                 \n",
            " dense_2 (Dense)             (None, 10)                650       \n",
            "                                                                 \n",
            "=================================================================\n",
            "Total params: 27,882\n",
            "Trainable params: 27,882\n",
            "Non-trainable params: 0\n",
            "_________________________________________________________________\n"
          ]
        }
      ]
    },
    {
      "cell_type": "code",
      "source": [
        "model_j.load_weights('model.h5')"
      ],
      "metadata": {
        "id": "GEodqAdjZsj0"
      },
      "execution_count": null,
      "outputs": []
    },
    {
      "cell_type": "code",
      "source": [
        "model_j.compile(loss='sparse_categorical_crossentropy',\n",
        "         optimizer='SGD',\n",
        "         metrics=['accuracy'])"
      ],
      "metadata": {
        "id": "C-DR8q-PZwAj"
      },
      "execution_count": null,
      "outputs": []
    },
    {
      "cell_type": "code",
      "source": [
        "loss,acc = model_j.evaluate(X_test,  y_test, verbose=2)"
      ],
      "metadata": {
        "id": "pcc4WI0nZxej",
        "colab": {
          "base_uri": "https://localhost:8080/"
        },
        "outputId": "2413d514-5802-498e-ece5-30b6a3be02b4"
      },
      "execution_count": null,
      "outputs": [
        {
          "output_type": "stream",
          "name": "stdout",
          "text": [
            "313/313 - 1s - loss: 0.1208 - accuracy: 0.9720 - 578ms/epoch - 2ms/step\n"
          ]
        }
      ]
    }
  ]
}