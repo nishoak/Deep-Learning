{
  "nbformat": 4,
  "nbformat_minor": 0,
  "metadata": {
    "colab": {
      "provenance": [],
      "collapsed_sections": []
    },
    "kernelspec": {
      "name": "python3",
      "display_name": "Python 3"
    },
    "language_info": {
      "name": "python"
    }
  },
  "cells": [
    {
      "cell_type": "code",
      "source": [
        "import tensorflow as tf\n",
        "import numpy as np"
      ],
      "metadata": {
        "id": "ATtip9OCYGa0"
      },
      "execution_count": null,
      "outputs": []
    },
    {
      "cell_type": "markdown",
      "source": [
        "### Tensors are nothing but multidimensional arrays with a uniform type called a dtype.\n",
        "### Creating 1-D, 2-D,3-D & an n-dimensional tensors"
      ],
      "metadata": {
        "id": "t86Un9N0ZFPD"
      }
    },
    {
      "cell_type": "code",
      "source": [
        "tf_1 = tf.constant(4)\n",
        "print(tf_1)"
      ],
      "metadata": {
        "colab": {
          "base_uri": "https://localhost:8080/"
        },
        "id": "Ha8AhiQuYZ_C",
        "outputId": "aaa2669f-5463-4c89-9bf4-2845bd0570ec"
      },
      "execution_count": null,
      "outputs": [
        {
          "output_type": "stream",
          "name": "stdout",
          "text": [
            "tf.Tensor(4, shape=(), dtype=int32)\n"
          ]
        }
      ]
    },
    {
      "cell_type": "code",
      "source": [
        "tf_2 = tf.constant([2.0,3.0,4.0])\n",
        "print(tf_2)"
      ],
      "metadata": {
        "colab": {
          "base_uri": "https://localhost:8080/"
        },
        "id": "BQU1s1DCYlt6",
        "outputId": "3fe9a8a7-2942-49d9-fa82-85d8c6cf3499"
      },
      "execution_count": null,
      "outputs": [
        {
          "output_type": "stream",
          "name": "stdout",
          "text": [
            "tf.Tensor([2. 3. 4.], shape=(3,), dtype=float32)\n"
          ]
        }
      ]
    },
    {
      "cell_type": "code",
      "source": [
        "tf_3 = tf.constant( [ [1, 2],[3, 4],[5, 6] ] , dtype = tf.float16 ) \n",
        "print(tf_3)"
      ],
      "metadata": {
        "colab": {
          "base_uri": "https://localhost:8080/"
        },
        "id": "lLfc5JtUZn_R",
        "outputId": "7e6bc2eb-f4c0-4608-ff71-9b24986d18ee"
      },
      "execution_count": null,
      "outputs": [
        {
          "output_type": "stream",
          "name": "stdout",
          "text": [
            "tf.Tensor(\n",
            "[[1. 2.]\n",
            " [3. 4.]\n",
            " [5. 6.]], shape=(3, 2), dtype=float16)\n"
          ]
        }
      ]
    },
    {
      "cell_type": "code",
      "source": [
        "# There can be arbitrary number of axes which are also called as dimensions\n",
        "tf_4 = tf.constant([\n",
        "  [[0, 1, 2, 3, 4],\n",
        "   [5, 6, 7, 8, 9]],\n",
        "  [[10, 11, 12, 13, 14],\n",
        "   [15, 16, 17, 18, 19]],\n",
        "  [[20, 21, 22, 23, 24],\n",
        "   [25, 26, 27, 28, 29]],])\n",
        "print(tf_4)"
      ],
      "metadata": {
        "colab": {
          "base_uri": "https://localhost:8080/"
        },
        "id": "f9mcdSd0aHD6",
        "outputId": "c18fde1f-fbaa-4eed-c151-f22ef79acf18"
      },
      "execution_count": null,
      "outputs": [
        {
          "output_type": "stream",
          "name": "stdout",
          "text": [
            "tf.Tensor(\n",
            "[[[ 0  1  2  3  4]\n",
            "  [ 5  6  7  8  9]]\n",
            "\n",
            " [[10 11 12 13 14]\n",
            "  [15 16 17 18 19]]\n",
            "\n",
            " [[20 21 22 23 24]\n",
            "  [25 26 27 28 29]]], shape=(3, 2, 5), dtype=int32)\n"
          ]
        }
      ]
    },
    {
      "cell_type": "markdown",
      "source": [
        "## Rank of the tensors"
      ],
      "metadata": {
        "id": "FDZm43H8bD54"
      }
    },
    {
      "cell_type": "code",
      "source": [
        "print (tf.rank(tf_1) )\n",
        "# This a rank-0 tensor which is also called as a scalar. It contains only a single value and has no axes."
      ],
      "metadata": {
        "colab": {
          "base_uri": "https://localhost:8080/"
        },
        "id": "7yOFKfAtbIiI",
        "outputId": "ef7d3189-9f13-4da7-b6ba-14700ac070ff"
      },
      "execution_count": null,
      "outputs": [
        {
          "output_type": "stream",
          "name": "stdout",
          "text": [
            "tf.Tensor(0, shape=(), dtype=int32)\n"
          ]
        }
      ]
    },
    {
      "cell_type": "code",
      "source": [
        "print ( tf.rank(tf_2) )\n",
        "# This is a rank-1 tensor which is also called a vector. It contains only 1 axes. It basically contains a list of values."
      ],
      "metadata": {
        "colab": {
          "base_uri": "https://localhost:8080/"
        },
        "id": "XKtQ0GLmbK8o",
        "outputId": "4b0ee914-e8a1-4822-e649-da56f866b0f6"
      },
      "execution_count": null,
      "outputs": [
        {
          "output_type": "stream",
          "name": "stdout",
          "text": [
            "tf.Tensor(1, shape=(), dtype=int32)\n"
          ]
        }
      ]
    },
    {
      "cell_type": "code",
      "source": [
        "print ( tf.rank(tf_3) )\n",
        "# This is a rank-2 tensor which is also called as a matrix. This tensor contains 2 axes."
      ],
      "metadata": {
        "colab": {
          "base_uri": "https://localhost:8080/"
        },
        "id": "FYDl5XmsbNXQ",
        "outputId": "d2669faf-2cf1-42d8-babc-0d31c1b476b1"
      },
      "execution_count": null,
      "outputs": [
        {
          "output_type": "stream",
          "name": "stdout",
          "text": [
            "tf.Tensor(2, shape=(), dtype=int32)\n"
          ]
        }
      ]
    },
    {
      "cell_type": "code",
      "source": [
        "print ( tf.rank(tf_4) )\n",
        "# A tensor can be having more axes. The above example tf_4 is a matrix with 3 axes."
      ],
      "metadata": {
        "colab": {
          "base_uri": "https://localhost:8080/"
        },
        "id": "SfxgX_rxcnJH",
        "outputId": "4565205a-65ab-4409-ed77-9bf7a5733951"
      },
      "execution_count": null,
      "outputs": [
        {
          "output_type": "stream",
          "name": "stdout",
          "text": [
            "tf.Tensor(3, shape=(), dtype=int32)\n"
          ]
        }
      ]
    },
    {
      "cell_type": "markdown",
      "source": [
        "### Using different methods like zeros(),ones(),fill() to create a tensor"
      ],
      "metadata": {
        "id": "KpP5IsvLdnmn"
      }
    },
    {
      "cell_type": "code",
      "source": [
        "# Using zeros() method\n",
        "tf_zeros_1 = tf.zeros( [3] , tf.float16 )\n",
        "tf_zeros_2 = tf.zeros( [3, 4] , tf.int32)\n",
        "tf_zeros_3 = tf.zeros( [2,5,10] , tf.int16 )\n",
        "print(tf_zeros_1)\n",
        "print(tf_zeros_2)\n",
        "print(tf_zeros_3)\n",
        "# We can even mention the dtype we want to get. Example :- tf.int32"
      ],
      "metadata": {
        "colab": {
          "base_uri": "https://localhost:8080/"
        },
        "id": "tM8qQjDldsAt",
        "outputId": "13d784a1-6c0f-492b-c5ea-e9e87e201041"
      },
      "execution_count": null,
      "outputs": [
        {
          "output_type": "stream",
          "name": "stdout",
          "text": [
            "tf.Tensor([0. 0. 0.], shape=(3,), dtype=float16)\n",
            "tf.Tensor(\n",
            "[[0 0 0 0]\n",
            " [0 0 0 0]\n",
            " [0 0 0 0]], shape=(3, 4), dtype=int32)\n",
            "tf.Tensor(\n",
            "[[[0 0 0 0 0 0 0 0 0 0]\n",
            "  [0 0 0 0 0 0 0 0 0 0]\n",
            "  [0 0 0 0 0 0 0 0 0 0]\n",
            "  [0 0 0 0 0 0 0 0 0 0]\n",
            "  [0 0 0 0 0 0 0 0 0 0]]\n",
            "\n",
            " [[0 0 0 0 0 0 0 0 0 0]\n",
            "  [0 0 0 0 0 0 0 0 0 0]\n",
            "  [0 0 0 0 0 0 0 0 0 0]\n",
            "  [0 0 0 0 0 0 0 0 0 0]\n",
            "  [0 0 0 0 0 0 0 0 0 0]]], shape=(2, 5, 10), dtype=int16)\n"
          ]
        }
      ]
    },
    {
      "cell_type": "code",
      "source": [
        "# Using ones() method\n",
        "tf_ones_1 = tf.ones( [5] , tf.float16 )\n",
        "tf_ones_2 = tf.ones( [2, 3] , tf.int32)\n",
        "tf_ones_3 = tf.ones( [2,4,6] , tf.int16 )\n",
        "print(tf_ones_1)\n",
        "print(tf_ones_2)\n",
        "print(tf_ones_3)"
      ],
      "metadata": {
        "colab": {
          "base_uri": "https://localhost:8080/"
        },
        "id": "qQdeEq8qd-wm",
        "outputId": "d9da03ad-8296-45b1-96ac-e9d2df7de46e"
      },
      "execution_count": null,
      "outputs": [
        {
          "output_type": "stream",
          "name": "stdout",
          "text": [
            "tf.Tensor([1. 1. 1. 1. 1.], shape=(5,), dtype=float16)\n",
            "tf.Tensor(\n",
            "[[1 1 1]\n",
            " [1 1 1]], shape=(2, 3), dtype=int32)\n",
            "tf.Tensor(\n",
            "[[[1 1 1 1 1 1]\n",
            "  [1 1 1 1 1 1]\n",
            "  [1 1 1 1 1 1]\n",
            "  [1 1 1 1 1 1]]\n",
            "\n",
            " [[1 1 1 1 1 1]\n",
            "  [1 1 1 1 1 1]\n",
            "  [1 1 1 1 1 1]\n",
            "  [1 1 1 1 1 1]]], shape=(2, 4, 6), dtype=int16)\n"
          ]
        }
      ]
    },
    {
      "cell_type": "code",
      "source": [
        "# Using fill() method - tf.fill( dims , value , name = None )\n",
        "tf_fill_1 = tf.fill( [3] , 10 , tf.float16 )\n",
        "tf_fill_2 = tf.fill( [3, 4] , 9 , tf.int32)\n",
        "tf_fill_3 = tf.fill( [2,5,4] , 2 , tf.int16 )\n",
        "print(tf_fill_1)\n",
        "print(tf_fill_2)\n",
        "print(tf_fill_3)\n",
        "# We can even mention the dtype we want to get. Example :- tf.int32"
      ],
      "metadata": {
        "colab": {
          "base_uri": "https://localhost:8080/"
        },
        "id": "T2YGcK6CeELm",
        "outputId": "7a9fca56-664d-49e9-a260-e7a1c9f1d635"
      },
      "execution_count": null,
      "outputs": [
        {
          "output_type": "stream",
          "name": "stdout",
          "text": [
            "tf.Tensor([10 10 10], shape=(3,), dtype=int32)\n",
            "tf.Tensor(\n",
            "[[9 9 9 9]\n",
            " [9 9 9 9]\n",
            " [9 9 9 9]], shape=(3, 4), dtype=int32)\n",
            "tf.Tensor(\n",
            "[[[2 2 2 2]\n",
            "  [2 2 2 2]\n",
            "  [2 2 2 2]\n",
            "  [2 2 2 2]\n",
            "  [2 2 2 2]]\n",
            "\n",
            " [[2 2 2 2]\n",
            "  [2 2 2 2]\n",
            "  [2 2 2 2]\n",
            "  [2 2 2 2]\n",
            "  [2 2 2 2]]], shape=(2, 5, 4), dtype=int32)\n"
          ]
        }
      ]
    },
    {
      "cell_type": "markdown",
      "source": [
        "### Finding shape of the tensor using tensor flow library"
      ],
      "metadata": {
        "id": "ERpZVETGhQc1"
      }
    },
    {
      "cell_type": "code",
      "source": [
        "print(tf.shape(tf_1))\n",
        "print(tf.shape(tf_2))\n",
        "print(tf.shape(tf_3))\n",
        "print(tf.shape(tf_4))"
      ],
      "metadata": {
        "colab": {
          "base_uri": "https://localhost:8080/"
        },
        "id": "RYO0tEvehXHL",
        "outputId": "a4608ac6-8448-4eac-c420-715cc2efd7bc"
      },
      "execution_count": null,
      "outputs": [
        {
          "output_type": "stream",
          "name": "stdout",
          "text": [
            "tf.Tensor([], shape=(0,), dtype=int32)\n",
            "tf.Tensor([3], shape=(1,), dtype=int32)\n",
            "tf.Tensor([3 2], shape=(2,), dtype=int32)\n",
            "tf.Tensor([3 2 5], shape=(3,), dtype=int32)\n"
          ]
        }
      ]
    },
    {
      "cell_type": "code",
      "source": [
        "print(tf.shape(tf_zeros_1))\n",
        "print(tf.shape(tf_zeros_2))\n",
        "print(tf.shape(tf_zeros_3))"
      ],
      "metadata": {
        "colab": {
          "base_uri": "https://localhost:8080/"
        },
        "id": "h05BwqALhwV1",
        "outputId": "178d1c4c-559f-47a7-98cd-07d886142e04"
      },
      "execution_count": null,
      "outputs": [
        {
          "output_type": "stream",
          "name": "stdout",
          "text": [
            "tf.Tensor([3], shape=(1,), dtype=int32)\n",
            "tf.Tensor([3 4], shape=(2,), dtype=int32)\n",
            "tf.Tensor([ 2  5 10], shape=(3,), dtype=int32)\n"
          ]
        }
      ]
    },
    {
      "cell_type": "code",
      "source": [
        "print(tf.shape(tf_ones_1))\n",
        "print(tf.shape(tf_ones_2))\n",
        "print(tf.shape(tf_ones_3))"
      ],
      "metadata": {
        "colab": {
          "base_uri": "https://localhost:8080/"
        },
        "id": "rlJnDNO8ho-d",
        "outputId": "97e8b0d8-e9ab-494d-ef17-06e1b9d25d9d"
      },
      "execution_count": null,
      "outputs": [
        {
          "output_type": "stream",
          "name": "stdout",
          "text": [
            "tf.Tensor([5], shape=(1,), dtype=int32)\n",
            "tf.Tensor([2 3], shape=(2,), dtype=int32)\n",
            "tf.Tensor([2 4 6], shape=(3,), dtype=int32)\n"
          ]
        }
      ]
    },
    {
      "cell_type": "code",
      "source": [
        "print(tf.shape(tf_fill_1))\n",
        "print(tf.shape(tf_fill_2))\n",
        "print(tf.shape(tf_fill_3))"
      ],
      "metadata": {
        "colab": {
          "base_uri": "https://localhost:8080/"
        },
        "id": "CDZqDB5Fh737",
        "outputId": "2b97fdc3-911c-4961-8943-9fe2f0c480b7"
      },
      "execution_count": null,
      "outputs": [
        {
          "output_type": "stream",
          "name": "stdout",
          "text": [
            "tf.Tensor([3], shape=(1,), dtype=int32)\n",
            "tf.Tensor([3 4], shape=(2,), dtype=int32)\n",
            "tf.Tensor([2 5 4], shape=(3,), dtype=int32)\n"
          ]
        }
      ]
    },
    {
      "cell_type": "markdown",
      "source": [
        "### Reshaping the tensor"
      ],
      "metadata": {
        "id": "wo7_W0XniH51"
      }
    },
    {
      "cell_type": "code",
      "source": [
        "tf_3_reshape = tf.reshape(tf_3, [6,1])\n",
        "tf_3_reshape"
      ],
      "metadata": {
        "id": "hJgpzw-CiM4T",
        "colab": {
          "base_uri": "https://localhost:8080/"
        },
        "outputId": "d8a43fc1-f339-43f6-8e7d-ba1e49fff037"
      },
      "execution_count": null,
      "outputs": [
        {
          "output_type": "execute_result",
          "data": {
            "text/plain": [
              "<tf.Tensor: shape=(6, 1), dtype=float16, numpy=\n",
              "array([[1.],\n",
              "       [2.],\n",
              "       [3.],\n",
              "       [4.],\n",
              "       [5.],\n",
              "       [6.]], dtype=float16)>"
            ]
          },
          "metadata": {},
          "execution_count": 19
        }
      ]
    },
    {
      "cell_type": "code",
      "source": [
        "tf_zeros_2_reshape = tf.reshape(tf_zeros_2, [12,1])\n",
        "tf_zeros_2_reshape"
      ],
      "metadata": {
        "colab": {
          "base_uri": "https://localhost:8080/"
        },
        "id": "z7tKhdYbMvue",
        "outputId": "16740ff1-272b-4b4f-d88f-886b4f0d1f54"
      },
      "execution_count": null,
      "outputs": [
        {
          "output_type": "execute_result",
          "data": {
            "text/plain": [
              "<tf.Tensor: shape=(12, 1), dtype=int32, numpy=\n",
              "array([[0],\n",
              "       [0],\n",
              "       [0],\n",
              "       [0],\n",
              "       [0],\n",
              "       [0],\n",
              "       [0],\n",
              "       [0],\n",
              "       [0],\n",
              "       [0],\n",
              "       [0],\n",
              "       [0]], dtype=int32)>"
            ]
          },
          "metadata": {},
          "execution_count": 21
        }
      ]
    },
    {
      "cell_type": "code",
      "source": [
        "tf_ones_2_reshape = tf.reshape(tf_ones_2, [3,2])\n",
        "tf_ones_2_reshape"
      ],
      "metadata": {
        "colab": {
          "base_uri": "https://localhost:8080/"
        },
        "id": "GIAFe4i2Nmjr",
        "outputId": "c4572562-3282-4efa-9bd6-7e32a9f52ff3"
      },
      "execution_count": null,
      "outputs": [
        {
          "output_type": "execute_result",
          "data": {
            "text/plain": [
              "<tf.Tensor: shape=(3, 2), dtype=int32, numpy=\n",
              "array([[1, 1],\n",
              "       [1, 1],\n",
              "       [1, 1]], dtype=int32)>"
            ]
          },
          "metadata": {},
          "execution_count": 23
        }
      ]
    },
    {
      "cell_type": "markdown",
      "source": [
        "### Performing slicing on tensors"
      ],
      "metadata": {
        "id": "iMwtW455N3K_"
      }
    },
    {
      "cell_type": "code",
      "source": [
        "t1 = tf.constant([0, 1, 2, 3, 4, 5, 6, 7])\n",
        "print(t1[1:4])"
      ],
      "metadata": {
        "colab": {
          "base_uri": "https://localhost:8080/"
        },
        "id": "pmumjf6eN9Ih",
        "outputId": "b04e86fb-e38c-4327-8746-891315a81bf4"
      },
      "execution_count": null,
      "outputs": [
        {
          "output_type": "stream",
          "name": "stdout",
          "text": [
            "tf.Tensor([1 2 3], shape=(3,), dtype=int32)\n"
          ]
        }
      ]
    },
    {
      "cell_type": "code",
      "source": [
        "t2 = tf.constant([[0, 1, 2, 3, 4],\n",
        "                  [5, 6, 7, 8, 9],\n",
        "                  [10, 11, 12, 13, 14],\n",
        "                  [15, 16, 17, 18, 19]])\n",
        "\n",
        "print(t2[:-2, 1:3])"
      ],
      "metadata": {
        "colab": {
          "base_uri": "https://localhost:8080/"
        },
        "id": "ebfbHKomOWur",
        "outputId": "6fdb811c-51ec-4831-db91-dab64d1b462c"
      },
      "execution_count": null,
      "outputs": [
        {
          "output_type": "stream",
          "name": "stdout",
          "text": [
            "tf.Tensor(\n",
            "[[1 2]\n",
            " [6 7]], shape=(2, 2), dtype=int32)\n"
          ]
        }
      ]
    }
  ]
}