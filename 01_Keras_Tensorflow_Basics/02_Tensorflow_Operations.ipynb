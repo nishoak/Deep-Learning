{
  "nbformat": 4,
  "nbformat_minor": 0,
  "metadata": {
    "colab": {
      "provenance": [],
      "collapsed_sections": []
    },
    "kernelspec": {
      "name": "python3",
      "display_name": "Python 3"
    },
    "language_info": {
      "name": "python"
    }
  },
  "cells": [
    {
      "cell_type": "code",
      "execution_count": null,
      "metadata": {
        "id": "5xmIfrGFaxw4"
      },
      "outputs": [],
      "source": [
        "import tensorflow as tf\n",
        "import numpy as np"
      ]
    },
    {
      "cell_type": "markdown",
      "source": [
        "### Performing mathematical operations on tensor"
      ],
      "metadata": {
        "id": "Pje8Sesrb7jk"
      }
    },
    {
      "cell_type": "markdown",
      "source": [
        "### matmul() operation"
      ],
      "metadata": {
        "id": "VSKL5W9jjvot"
      }
    },
    {
      "cell_type": "code",
      "source": [
        "# matmul() operation on a 2D tensor\n",
        "a = tf.constant([1, 2, 3, 4, 5, 6], shape=[2, 3])\n",
        "b = tf.constant([7, 8, 9, 10, 11, 12], shape=[3, 2])\n",
        "c = tf.matmul(a, b)\n",
        "print(c)  "
      ],
      "metadata": {
        "colab": {
          "base_uri": "https://localhost:8080/"
        },
        "id": "iWgCPgDecA86",
        "outputId": "730ebf2d-a176-4420-f317-596a545ccd7d"
      },
      "execution_count": null,
      "outputs": [
        {
          "output_type": "stream",
          "name": "stdout",
          "text": [
            "tf.Tensor(\n",
            "[[ 58  64]\n",
            " [139 154]], shape=(2, 2), dtype=int32)\n"
          ]
        }
      ]
    },
    {
      "cell_type": "code",
      "source": [
        "# matmul() operation on a 3D tensor\n",
        "d = tf.constant(np.arange(1, 13, dtype=np.int32), shape=[2, 2, 3])\n",
        "e = tf.constant(np.arange(13, 25, dtype=np.int32), shape=[2, 3, 2])\n",
        "f = tf.matmul(d,e)\n",
        "print(f)"
      ],
      "metadata": {
        "colab": {
          "base_uri": "https://localhost:8080/"
        },
        "id": "y_trkOb_dgZi",
        "outputId": "198f1f2a-b598-434d-fa61-b21a87ea9448"
      },
      "execution_count": null,
      "outputs": [
        {
          "output_type": "stream",
          "name": "stdout",
          "text": [
            "tf.Tensor(\n",
            "[[[ 94 100]\n",
            "  [229 244]]\n",
            "\n",
            " [[508 532]\n",
            "  [697 730]]], shape=(2, 2, 2), dtype=int32)\n"
          ]
        }
      ]
    },
    {
      "cell_type": "markdown",
      "source": [
        "### add(), subtract() operations\n",
        "#### Both input and output can have a range between (-infinity , infinity). If one of the inputs (x or y) is a tensor and the other is a non-tensor, the non-tensor input will adopt the data type of the tensor input. This will cause unwanted overflow or underflow conversion."
      ],
      "metadata": {
        "id": "dBvw9KPnfM68"
      }
    },
    {
      "cell_type": "code",
      "source": [
        "x = [1, 2, 3, 4, 5]\n",
        "y = 1\n",
        "print (tf.subtract(x,y))\n",
        "print (tf.add(x,y))"
      ],
      "metadata": {
        "colab": {
          "base_uri": "https://localhost:8080/"
        },
        "id": "jngVbNMUd52U",
        "outputId": "380aa40a-fe50-42eb-9114-c96f888b9f13"
      },
      "execution_count": null,
      "outputs": [
        {
          "output_type": "stream",
          "name": "stdout",
          "text": [
            "tf.Tensor([0 1 2 3 4], shape=(5,), dtype=int32)\n",
            "tf.Tensor([2 3 4 5 6], shape=(5,), dtype=int32)\n"
          ]
        }
      ]
    },
    {
      "cell_type": "code",
      "source": [
        "# Binary operator can be used\n",
        "a = tf.convert_to_tensor([1, 2, 3, 4, 5])\n",
        "b = tf.convert_to_tensor(1)\n",
        "print(a - b)\n",
        "print(a + b)"
      ],
      "metadata": {
        "colab": {
          "base_uri": "https://localhost:8080/"
        },
        "id": "4zXl5SExeybI",
        "outputId": "d9d21edb-a7de-4362-e913-4bd532ce79be"
      },
      "execution_count": null,
      "outputs": [
        {
          "output_type": "stream",
          "name": "stdout",
          "text": [
            "tf.Tensor([0 1 2 3 4], shape=(5,), dtype=int32)\n",
            "tf.Tensor([2 3 4 5 6], shape=(5,), dtype=int32)\n"
          ]
        }
      ]
    },
    {
      "cell_type": "code",
      "source": [
        "x = np.ones(6).reshape(2, 3, 1)\n",
        "y = np.ones(6).reshape(2, 1, 3)\n",
        "print(x)\n",
        "print(y)\n",
        "print(tf.subtract(x, y))\n",
        "print (tf.add(x,y))"
      ],
      "metadata": {
        "colab": {
          "base_uri": "https://localhost:8080/"
        },
        "id": "YkHIc89ve5hz",
        "outputId": "2294b6d0-6e92-4cb6-a7da-5a42d56a8292"
      },
      "execution_count": null,
      "outputs": [
        {
          "output_type": "stream",
          "name": "stdout",
          "text": [
            "[[[1.]\n",
            "  [1.]\n",
            "  [1.]]\n",
            "\n",
            " [[1.]\n",
            "  [1.]\n",
            "  [1.]]]\n",
            "[[[1. 1. 1.]]\n",
            "\n",
            " [[1. 1. 1.]]]\n",
            "tf.Tensor(\n",
            "[[[0. 0. 0.]\n",
            "  [0. 0. 0.]\n",
            "  [0. 0. 0.]]\n",
            "\n",
            " [[0. 0. 0.]\n",
            "  [0. 0. 0.]\n",
            "  [0. 0. 0.]]], shape=(2, 3, 3), dtype=float64)\n",
            "tf.Tensor(\n",
            "[[[2. 2. 2.]\n",
            "  [2. 2. 2.]\n",
            "  [2. 2. 2.]]\n",
            "\n",
            " [[2. 2. 2.]\n",
            "  [2. 2. 2.]\n",
            "  [2. 2. 2.]]], shape=(2, 3, 3), dtype=float64)\n"
          ]
        }
      ]
    },
    {
      "cell_type": "markdown",
      "source": [
        "### Transpose Operation"
      ],
      "metadata": {
        "id": "pPfiAlpfg4cv"
      }
    },
    {
      "cell_type": "code",
      "source": [
        "x = tf.constant([[1, 2, 3], [4, 5, 6]])\n",
        "tf.transpose(x)"
      ],
      "metadata": {
        "colab": {
          "base_uri": "https://localhost:8080/"
        },
        "id": "EEyixp_Lg6GX",
        "outputId": "1a6b5281-537b-4994-bfc1-ab3ea00043e4"
      },
      "execution_count": null,
      "outputs": [
        {
          "output_type": "execute_result",
          "data": {
            "text/plain": [
              "<tf.Tensor: shape=(3, 2), dtype=int32, numpy=\n",
              "array([[1, 4],\n",
              "       [2, 5],\n",
              "       [3, 6]], dtype=int32)>"
            ]
          },
          "metadata": {},
          "execution_count": 7
        }
      ]
    },
    {
      "cell_type": "code",
      "source": [
        "# If x is complex, setting \"conjugate=True\" gives the conjugate transpose.\n",
        "x = tf.constant([[1 + 1j, 2 + 2j, 3 + 3j],\n",
        "                 [4 + 4j, 5 + 5j, 6 + 6j]])\n",
        "tf.transpose(x, conjugate=True)"
      ],
      "metadata": {
        "colab": {
          "base_uri": "https://localhost:8080/"
        },
        "id": "Cxs1xlyOj_Ba",
        "outputId": "41ccf17e-40f3-45f0-e52f-568ed5fd6bc0"
      },
      "execution_count": null,
      "outputs": [
        {
          "output_type": "execute_result",
          "data": {
            "text/plain": [
              "<tf.Tensor: shape=(3, 2), dtype=complex128, numpy=\n",
              "array([[1.-1.j, 4.-4.j],\n",
              "       [2.-2.j, 5.-5.j],\n",
              "       [3.-3.j, 6.-6.j]])>"
            ]
          },
          "metadata": {},
          "execution_count": 8
        }
      ]
    },
    {
      "cell_type": "code",
      "source": [
        "# tf.transpose will default to perm=[2,1,0]\n",
        "x = tf.constant([[[ 1,  2,  3],\n",
        "                  [ 4,  5,  6]],\n",
        "                 [[ 7,  8,  9],\n",
        "                  [10, 11, 12]]])\n",
        "tf.transpose(x, perm=[0, 2, 1])"
      ],
      "metadata": {
        "colab": {
          "base_uri": "https://localhost:8080/"
        },
        "id": "nHqhEsVB_IOC",
        "outputId": "6f708133-6073-452f-e494-e0c1a34c8898"
      },
      "execution_count": null,
      "outputs": [
        {
          "output_type": "execute_result",
          "data": {
            "text/plain": [
              "<tf.Tensor: shape=(2, 3, 2), dtype=int32, numpy=\n",
              "array([[[ 1,  4],\n",
              "        [ 2,  5],\n",
              "        [ 3,  6]],\n",
              "\n",
              "       [[ 7, 10],\n",
              "        [ 8, 11],\n",
              "        [ 9, 12]]], dtype=int32)>"
            ]
          },
          "metadata": {},
          "execution_count": 9
        }
      ]
    },
    {
      "cell_type": "markdown",
      "source": [
        "### Perform mathematical computation on tensor through constant, variable & placeholder methods."
      ],
      "metadata": {
        "id": "ORQkFusgAz8O"
      }
    },
    {
      "cell_type": "code",
      "source": [
        "# Constant Method\n",
        "x = tf.constant([2,3])\n",
        "y = tf.constant([3,4])\n",
        "print (tf.add(x,y))\n",
        "print (tf.subtract(x,y))"
      ],
      "metadata": {
        "colab": {
          "base_uri": "https://localhost:8080/"
        },
        "id": "nJT6UrxIA3R5",
        "outputId": "78a4b1bf-c0dc-43ad-97d7-00076c05fe8e"
      },
      "execution_count": null,
      "outputs": [
        {
          "output_type": "stream",
          "name": "stdout",
          "text": [
            "tf.Tensor([5 7], shape=(2,), dtype=int32)\n",
            "tf.Tensor([-1 -1], shape=(2,), dtype=int32)\n"
          ]
        }
      ]
    },
    {
      "cell_type": "code",
      "source": [
        "# Variable Method\n",
        "t1 = tf.Variable([3,4])\n",
        "print(t1)\n",
        "\n",
        "t1.assign([4,5])\n",
        "print(t1)\n",
        "\n",
        "print(t1.assign_add([2,2]))\n",
        "print(t1.assign_sub([2,1]))"
      ],
      "metadata": {
        "colab": {
          "base_uri": "https://localhost:8080/"
        },
        "id": "ctKHFCeHCOJT",
        "outputId": "65489ec7-a6ba-4223-fc86-13a3942d3991"
      },
      "execution_count": null,
      "outputs": [
        {
          "output_type": "stream",
          "name": "stdout",
          "text": [
            "<tf.Variable 'Variable:0' shape=(2,) dtype=int32, numpy=array([3, 4], dtype=int32)>\n",
            "<tf.Variable 'Variable:0' shape=(2,) dtype=int32, numpy=array([4, 5], dtype=int32)>\n",
            "<tf.Variable 'UnreadVariable' shape=(2,) dtype=int32, numpy=array([6, 7], dtype=int32)>\n",
            "<tf.Variable 'UnreadVariable' shape=(2,) dtype=int32, numpy=array([4, 6], dtype=int32)>\n"
          ]
        }
      ]
    },
    {
      "cell_type": "markdown",
      "source": [
        "### Creating a dataset"
      ],
      "metadata": {
        "id": "FKL9P9LLVUjA"
      }
    },
    {
      "cell_type": "code",
      "source": [
        "#dataset creation\n",
        "dataset1 = tf.data.Dataset.from_tensors(tf.range(1, 15)) #using from_tensor library to create a dataset of an array from 0 to 15\n",
        "print(dataset1)"
      ],
      "metadata": {
        "colab": {
          "base_uri": "https://localhost:8080/"
        },
        "id": "pccRxbX8VXHs",
        "outputId": "3efeedcf-6faa-4a9d-ffa5-d3398837a642"
      },
      "execution_count": null,
      "outputs": [
        {
          "output_type": "stream",
          "name": "stdout",
          "text": [
            "<TensorDataset element_spec=TensorSpec(shape=(14,), dtype=tf.int32, name=None)>\n"
          ]
        }
      ]
    },
    {
      "cell_type": "code",
      "source": [
        "# Using tensor_slice method\n",
        "dataset2 = tf.data.Dataset.from_tensor_slices(tf.range(10, 15))\n",
        "print(dataset2)"
      ],
      "metadata": {
        "colab": {
          "base_uri": "https://localhost:8080/"
        },
        "id": "eUdoMtgSVbkv",
        "outputId": "17b2fa18-cca7-482b-b8b3-c0353b374317"
      },
      "execution_count": null,
      "outputs": [
        {
          "output_type": "stream",
          "name": "stdout",
          "text": [
            "<TensorSliceDataset element_spec=TensorSpec(shape=(), dtype=tf.int32, name=None)>\n"
          ]
        }
      ]
    },
    {
      "cell_type": "code",
      "source": [
        "# Using generator method\n",
        "def generator(sequence_type):\n",
        "    if sequence_type == 1:\n",
        "        for i in range(5):\n",
        "            yield 10 + i\n",
        "    elif sequence_type == 2:\n",
        "        for i in range(5):\n",
        "            yield (3, 2 * i)\n",
        "dataset3 = tf.data.Dataset.from_generator(generator, (tf.int32), args = ([1]))\n",
        "\n",
        "print(dataset3)"
      ],
      "metadata": {
        "colab": {
          "base_uri": "https://localhost:8080/"
        },
        "id": "2B8SR1j9VbnA",
        "outputId": "54767a22-782c-4e99-f9e7-b5fbb1944bc8"
      },
      "execution_count": null,
      "outputs": [
        {
          "output_type": "stream",
          "name": "stderr",
          "text": [
            "WARNING:tensorflow:From <ipython-input-16-0356e1a63b01>:9: calling DatasetV2.from_generator (from tensorflow.python.data.ops.dataset_ops) with output_types is deprecated and will be removed in a future version.\n",
            "Instructions for updating:\n",
            "Use output_signature instead\n"
          ]
        },
        {
          "output_type": "stream",
          "name": "stdout",
          "text": [
            "<FlatMapDataset element_spec=TensorSpec(shape=<unknown>, dtype=tf.int32, name=None)>\n"
          ]
        }
      ]
    },
    {
      "cell_type": "markdown",
      "source": [
        "### Apply different transformations techniques(as_numpy_iterator, apply, batch,cardinality, etc.) to a prepared dataset."
      ],
      "metadata": {
        "id": "WYaraU0ZMF_H"
      }
    },
    {
      "cell_type": "code",
      "source": [
        "dataset1 = dataset1.batch(3)\n",
        "print(dataset1)"
      ],
      "metadata": {
        "colab": {
          "base_uri": "https://localhost:8080/"
        },
        "id": "YvXWpelCMIQr",
        "outputId": "f619c8fb-6907-4acb-fb45-def603d74415"
      },
      "execution_count": null,
      "outputs": [
        {
          "output_type": "stream",
          "name": "stdout",
          "text": [
            "<BatchDataset element_spec=TensorSpec(shape=(None, 14), dtype=tf.int32, name=None)>\n"
          ]
        }
      ]
    }
  ]
}